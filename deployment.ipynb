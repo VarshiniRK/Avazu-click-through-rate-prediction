{
  "cells": [
    {
      "cell_type": "code",
      "execution_count": null,
      "metadata": {
        "colab": {
          "base_uri": "https://localhost:8080/"
        },
        "id": "km7hTMTV6dvh",
        "outputId": "6a946b48-56f8-47ae-f736-1a5cc9b3f3d3"
      },
      "outputs": [
        {
          "name": "stdout",
          "output_type": "stream",
          "text": [
            "Writing train.py\n"
          ]
        }
      ],
      "source": [
        "%%writefile train.py\n",
        "\n",
        "import pandas as pd\n",
        "import numpy as np\n",
        "from xgboost import XGBClassifier\n",
        "from google.colab import drive\n",
        "import plotly.graph_objects as go\n",
        "import plotly.express as px\n",
        "from plotly.subplots import make_subplots\n",
        "import warnings\n",
        "from sklearn.linear_model import LogisticRegressionCV, LogisticRegression\n",
        "from sklearn.tree import DecisionTreeClassifier\n",
        "from sklearn.model_selection import cross_val_score, GridSearchCV, train_test_split, RepeatedStratifiedKFold, StratifiedKFold\n",
        "from sklearn.metrics import mean_absolute_error, accuracy_score, classification_report, roc_auc_score, roc_curve, confusion_matrix, roc_auc_score, auc, log_loss\n",
        "from imblearn.pipeline import Pipeline\n",
        "from sklearn.pipeline import Pipeline\n",
        "import multiprocessing as mp\n",
        "#from keras.optimizers import SGD\n",
        "from keras.models import Sequential\n",
        "from keras.layers import Dense\n",
        "from statsmodels.stats.proportion import proportion_confint\n",
        "from keras.wrappers.scikit_learn import KerasClassifier\n",
        "from statsmodels.stats.outliers_influence import variance_inflation_factor\n",
        "from sklearn.preprocessing import StandardScaler, MinMaxScaler\n",
        "from sklearn.feature_selection import VarianceThreshold, SelectKBest, f_classif\n",
        "from sklearn.ensemble import IsolationForest\n",
        "from sklearn.covariance import EllipticEnvelope\n",
        "import random\n",
        "import gzip\n",
        "from datetime import datetime\n",
        "from imblearn.over_sampling import SMOTE, BorderlineSMOTE\n",
        "from imblearn.under_sampling import RandomUnderSampler\n",
        "from lightgbm import LGBMClassifier\n",
        "from sklearn.compose import ColumnTransformer\n",
        "import pickle\n",
        "\n",
        "\n",
        "warnings.filterwarnings(\"ignore\")\n",
        "\n",
        "types_train = {\n",
        "    'id': np.dtype(int),\n",
        "    'click': np.dtype(int),\n",
        "    'hour': np.dtype(int),\n",
        "    'C1': np.dtype(int),\n",
        "    'banner_pos': np.dtype(int),\n",
        "    'site_id': np.dtype(str),\n",
        "    'site_domain': np.dtype(str), \n",
        "    'site_category': np.dtype(str),\n",
        "    'app_id': np.dtype(str),\n",
        "    'app_domain': np.dtype(str),\n",
        "    'app_category': np.dtype(str),\n",
        "    'device_id': np.dtype(str),\n",
        "    'device_ip': np.dtype(str),\n",
        "    'device_model': np.dtype(str),\n",
        "    'device_type': np.dtype(int),\n",
        "    'device_conn_type': np.dtype(int),\n",
        "    'C14': np.dtype(int),\n",
        "    'C15': np.dtype(int),\n",
        "    'C16': np.dtype(int),\n",
        "    'C17': np.dtype(int),\n",
        "    'C18': np.dtype(int),\n",
        "    'C19': np.dtype(int),\n",
        "    'C20': np.dtype(int),\n",
        "    'C21':np.dtype(int)\n",
        "}\n",
        "\n",
        "types_test = {\n",
        "    'id': np.dtype(int),\n",
        "    'hour': np.dtype(int),\n",
        "    'C1': np.dtype(int),\n",
        "    'banner_pos': np.dtype(int),\n",
        "    'site_id': np.dtype(str),\n",
        "    'site_domain': np.dtype(str), \n",
        "    'site_category': np.dtype(str),\n",
        "    'app_id': np.dtype(str),\n",
        "    'app_domain': np.dtype(str),\n",
        "    'app_category': np.dtype(str),\n",
        "    'device_id': np.dtype(str),\n",
        "    'device_ip': np.dtype(str),\n",
        "    'device_model': np.dtype(str),\n",
        "    'device_type': np.dtype(int),\n",
        "    'device_conn_type': np.dtype(int),\n",
        "    'C14': np.dtype(int),\n",
        "    'C15': np.dtype(int),\n",
        "    'C16': np.dtype(int),\n",
        "    'C17': np.dtype(int),\n",
        "    'C18': np.dtype(int),\n",
        "    'C19': np.dtype(int),\n",
        "    'C20': np.dtype(int),\n",
        "    'C21':np.dtype(int)\n",
        "}\n",
        "\n",
        "# Code to mount google drive in case you are loading the data from your google drive\n",
        "from google.colab import drive\n",
        "drive.mount('/gdrive')\n",
        "\n",
        "\n",
        "n = 40428967  #total number of records in the clickstream data \n",
        "sample_size = 200000\n",
        "skip_values = sorted(random.sample(range(1,n), n-sample_size)) \n",
        "\n",
        "parse_date = lambda val : datetime.strptime(val, '%y%m%d%H')\n",
        "\n",
        "with gzip.open('/gdrive/My Drive/Diploma Project/avazu-ctr-prediction - Kaggle Dataset/train.gz') as f:\n",
        "    df = pd.read_csv(f, parse_dates = ['hour'], date_parser = parse_date, dtype=types_train, skiprows = skip_values)\n",
        "\n",
        "#Feature Engineering\n",
        "df['hour_of_day'] = df[\"hour\"].apply(lambda x: str(x.time())[:5])\n",
        "#the feature hour_of_day only has hours to represent and not the minutes\n",
        "df[\"hour_of_day\"] = df[\"hour_of_day\"].apply(lambda x: int(x.split(\":\")[0]))\n",
        "days = [\"Monday\", \"Tuesday\", \"Wednesday\", \"Thursday\", \"Friday\", \"Saturday\", \"Sunday\"]\n",
        "df[\"day_of_week\"] = df[\"hour\"].apply(lambda x: days[x.weekday()])\n",
        "\n",
        "# drop unwanted columns using subjective analysis and also drop highly correlated columns\n",
        "cols = list(df.columns)\n",
        "if any(col in cols for col in [\"id\", \"hour\",\"C17\", \"device_type\"]):\n",
        "  df = df.drop([\"id\", \"hour\",\"C17\", \"device_type\"], axis=1)\n",
        "\n",
        "def convert_obj_to_int(fm):\n",
        "    \n",
        "    object_list_columns = fm.columns\n",
        "    object_list_dtypes = fm.dtypes\n",
        "    print(object_list_columns)\n",
        "    print(object_list_dtypes)\n",
        "    for index in range(0,len(object_list_columns)):\n",
        "        if object_list_dtypes[index] == object :\n",
        "            fm[object_list_columns[index]] = fm[object_list_columns[index]].apply(lambda x: hash(x))\n",
        "    return fm\n",
        "\n",
        "df_hashed = convert_obj_to_int(df)\n",
        "print(df_hashed.loc[0,:])\n",
        "print(df_hashed.dtypes)\n",
        "\n",
        "#ends\n",
        "\n",
        "def create_train_valid_test_split(dF, test_percent, shuffle=True):\n",
        "\n",
        "  if shuffle:\n",
        "    dF = dF.sample(frac = 1).reset_index().drop(\"index\", axis=1)\n",
        "\n",
        "  cols = list(dF.columns)\n",
        "  y = dF[\"click\"].to_numpy()\n",
        "  cols.remove('click')\n",
        "  X = dF.loc[:, cols].to_numpy()\n",
        "  print(\"Data shape before splitting: {}\".format(X.shape))\n",
        "  print(\"Labels shape before splitting: {}\".format(y.shape))\n",
        "\n",
        "  X_train, X_test, y_train, y_test = train_test_split(X, y, test_size=test_percent, random_state=1)\n",
        "  # X_train, X_valid, y_train, y_valid = train_test_split(X_train, y_train, test_size=0.12, random_state=1)\n",
        "\n",
        "  print(\"Training data shape: {}\".format(X_train.shape))\n",
        "  print(\"Training labels shapre: {}\".format(y_train.shape))\n",
        "  # print(\"Validation data shape: {}\".format(X_valid.shape))\n",
        "  # print(\"Validation labels shape: {}\".format(y_valid.shape))\n",
        "  print(\"Test data shape: {}\".format(X_test.shape))\n",
        "  print(\"Test labels shape: {}\".format(y_test.shape))\n",
        "  \n",
        "  return X_train, y_train, X_test, y_test\n",
        "\n",
        "X_train, y_train, X_test, y_test = create_train_valid_test_split(df_hashed, 0.10)\n",
        "\n",
        "#iso = IsolationForest(contamination=0.1)\n",
        "#yhat = iso.fit_predict(X_train)\n",
        "#mask = yhat != -1\n",
        "#X_iso, y_iso = X_train[mask, :], y_train[mask]\n",
        "\n",
        "#model = DecisionTreeClassifier()\n",
        "#over = SMOTE(random_state=2, sampling_strategy=0.4, k_neighbors=1)\n",
        "#under = RandomUnderSampler(sampling_strategy=0.5)\n",
        "#steps = [('o', over), ('u', under)]\n",
        "#pipeline = Pipeline(steps=steps)\n",
        "#Xn, yn = pipeline.fit_resample(X_iso, y_iso.ravel())\n",
        "#cv = RepeatedStratifiedKFold(n_splits=10, n_repeats=3, random_state=1)\n",
        "#scores = cross_val_score(model, Xn, yn, scoring='roc_auc', cv=cv, n_jobs=-1)\n",
        "#score = np.mean(scores)\n",
        "#print(\"k={}, Mean ROC AUC: {:.3f}\".format(3, score))\n",
        "\n",
        "#X_train = np.copy(Xn)\n",
        "#y_train = np.copy(yn)\n",
        "\n",
        "params = {}\n",
        "params['boosting_type'] = 'gbdt'\n",
        "params['objective'] = 'binary'\n",
        "params['metric'] = 'binary_logloss'\n",
        "# params['num_iterations'] = 100 # default\n",
        "params['feature_fraction'] = 1.\n",
        "params['bagging_fraction'] = 1.\n",
        "params['nthreads'] = 8\n",
        "# params['scale_pos_weight'] = 1 #positive_class_fraction\n",
        "params['is_unbalance'] = False\n",
        "params['max_bin'] = 2^12\n",
        "params['n_estimators'] = 300\n",
        "        \n",
        "# parameter grid to use with cross-validation\n",
        "param_grid = {}\n",
        "param_grid['classifier__min_data_in_leaf'] = [30] \n",
        "param_grid['classifier__max_depth'] = [-1] \n",
        "param_grid['classifier__learning_rate'] = [0.03]\n",
        "param_grid['classifier__min_data_per_group'] = [5]\n",
        "param_grid['classifier__num_leaves'] = [100] # <= 2**max_depth\n",
        "param_grid['classifier__regression_l2'] = [0.]\n",
        "       \n",
        "\n",
        "pipe = Pipeline([\n",
        "    ('scale', StandardScaler()),\n",
        "    ('fselect', SelectKBest(score_func=f_classif, k=15)),\n",
        "    ('classifier',LGBMClassifier(**params))\n",
        "])\n",
        "\n",
        "model = GridSearchCV(pipe, param_grid=param_grid, cv=5, scoring='neg_log_loss')\n",
        "print(X_train[0])\n",
        "model.fit(X_train, y_train)\n",
        "y_pred = model.predict(X_test)\n",
        "probs = model.predict_proba(X_test)\n",
        "accuracy = accuracy_score(y_test, y_pred)\n",
        "print(\"Model accuracy: {}\".format(accuracy))\n",
        "\n",
        "import pickle\n",
        "pickle.dump(model,open('pipeline.pkl','wb'))\n",
        "\n",
        "# estimate log_loss\n",
        "logloss = log_loss((y_test+1), probs)\n",
        "print(logloss)\n",
        "\n",
        "print('Best parameters set found on development set\\n')\n",
        "print(model.best_params_)\n",
        "\n",
        "xgb_roc_auc = roc_auc_score(y_test, y_pred)\n",
        "print(xgb_roc_auc)"
      ]
    },
    {
      "cell_type": "code",
      "execution_count": null,
      "metadata": {
        "colab": {
          "background_save": true,
          "base_uri": "https://localhost:8080/"
        },
        "id": "_IKV1CvvFYgw",
        "outputId": "08ca792f-5b59-499d-dc0f-9386ef14ea5f"
      },
      "outputs": [
        {
          "name": "stdout",
          "output_type": "stream",
          "text": [
            "Mounted at /gdrive\n",
            "Index(['click', 'C1', 'banner_pos', 'site_id', 'site_domain', 'site_category',\n",
            "       'app_id', 'app_domain', 'app_category', 'device_id', 'device_ip',\n",
            "       'device_model', 'device_conn_type', 'C14', 'C15', 'C16', 'C18', 'C19',\n",
            "       'C20', 'C21', 'hour_of_day', 'day_of_week'],\n",
            "      dtype='object')\n",
            "click                int64\n",
            "C1                   int64\n",
            "banner_pos           int64\n",
            "site_id             object\n",
            "site_domain         object\n",
            "site_category       object\n",
            "app_id              object\n",
            "app_domain          object\n",
            "app_category        object\n",
            "device_id           object\n",
            "device_ip           object\n",
            "device_model        object\n",
            "device_conn_type     int64\n",
            "C14                  int64\n",
            "C15                  int64\n",
            "C16                  int64\n",
            "C18                  int64\n",
            "C19                  int64\n",
            "C20                  int64\n",
            "C21                  int64\n",
            "hour_of_day          int64\n",
            "day_of_week         object\n",
            "dtype: object\n",
            "click                                 0\n",
            "C1                                 1005\n",
            "banner_pos                            0\n",
            "site_id             8769481988888223578\n",
            "site_domain        -6147670490487242978\n",
            "site_category       7869366246439435375\n",
            "app_id             -3952108379765154718\n",
            "app_domain          -124616038870140549\n",
            "app_category       -3635718166560212244\n",
            "device_id          -4806577587093652291\n",
            "device_ip          -5888475280809909703\n",
            "device_model        2143550581544691893\n",
            "device_conn_type                      0\n",
            "C14                               20362\n",
            "C15                                 320\n",
            "C16                                  50\n",
            "C18                                   0\n",
            "C19                                  39\n",
            "C20                                  -1\n",
            "C21                                 157\n",
            "hour_of_day                           0\n",
            "day_of_week         5510197639190121327\n",
            "Name: 0, dtype: int64\n",
            "click               int64\n",
            "C1                  int64\n",
            "banner_pos          int64\n",
            "site_id             int64\n",
            "site_domain         int64\n",
            "site_category       int64\n",
            "app_id              int64\n",
            "app_domain          int64\n",
            "app_category        int64\n",
            "device_id           int64\n",
            "device_ip           int64\n",
            "device_model        int64\n",
            "device_conn_type    int64\n",
            "C14                 int64\n",
            "C15                 int64\n",
            "C16                 int64\n",
            "C18                 int64\n",
            "C19                 int64\n",
            "C20                 int64\n",
            "C21                 int64\n",
            "hour_of_day         int64\n",
            "day_of_week         int64\n",
            "dtype: object\n",
            "Data shape before splitting: (200000, 21)\n",
            "Labels shape before splitting: (200000,)\n",
            "Training data shape: (180000, 21)\n",
            "Training labels shapre: (180000,)\n",
            "Test data shape: (20000, 21)\n",
            "Test labels shape: (20000,)\n",
            "[                1005                    0 -3938796549387312043\n",
            " -5518821230612147059  1895041096012970836 -3952108379765154718\n",
            "  -124616038870140549 -3635718166560212244 -4806577587093652291\n",
            " -7415571432331099746  7135410004610423970                    0\n",
            "                15707                  320                   50\n",
            "                    0                   35                   -1\n",
            "                   79                   12 -4136505016625996247]\n",
            "Model accuracy: 0.8328\n",
            "0.40326600186500644\n",
            "Best parameters set found on development set\n",
            "\n",
            "{'classifier__learning_rate': 0.03, 'classifier__max_depth': -1, 'classifier__min_data_in_leaf': 30, 'classifier__min_data_per_group': 5, 'classifier__num_leaves': 100, 'classifier__regression_l2': 0.0}\n",
            "0.5287589812752008\n"
          ]
        }
      ],
      "source": [
        "%run train.py"
      ]
    },
    {
      "cell_type": "code",
      "execution_count": null,
      "metadata": {
        "colab": {
          "background_save": true
        },
        "id": "HZXWEHxI6n9W",
        "outputId": "76ab4990-75ef-48ec-841c-4d41bb569368"
      },
      "outputs": [
        {
          "name": "stdout",
          "output_type": "stream",
          "text": [
            "\u001b[K     |████████████████████████████████| 9.2 MB 5.2 MB/s \n",
            "\u001b[K     |████████████████████████████████| 182 kB 36.8 MB/s \n",
            "\u001b[K     |████████████████████████████████| 164 kB 25.3 MB/s \n",
            "\u001b[K     |████████████████████████████████| 78 kB 5.8 MB/s \n",
            "\u001b[K     |████████████████████████████████| 237 kB 49.9 MB/s \n",
            "\u001b[K     |████████████████████████████████| 4.7 MB 45.3 MB/s \n",
            "\u001b[K     |████████████████████████████████| 63 kB 1.6 MB/s \n",
            "\u001b[K     |████████████████████████████████| 51 kB 6.3 MB/s \n",
            "\u001b[?25h  Building wheel for validators (setup.py) ... \u001b[?25l\u001b[?25hdone\n"
          ]
        }
      ],
      "source": [
        "!pip install -q streamlit"
      ]
    },
    {
      "cell_type": "code",
      "execution_count": null,
      "metadata": {
        "colab": {
          "background_save": true
        },
        "id": "t-Tc9gdbsQ_9"
      },
      "outputs": [],
      "source": [
        "import streamlit as st"
      ]
    },
    {
      "cell_type": "code",
      "execution_count": null,
      "metadata": {
        "colab": {
          "background_save": true
        },
        "id": "KWciUF4TMH4G",
        "outputId": "0f4ea75b-bbac-4d37-eb9e-771df4a4b1ad"
      },
      "outputs": [
        {
          "name": "stdout",
          "output_type": "stream",
          "text": [
            "/bin/bash: ./ngrok: No such file or directory\n"
          ]
        }
      ],
      "source": [
        "!./ngrok authtokens 2FxqAY9VppUhMg9bAq3gCATq6YN_2EaqhKDJeKvQ1qx9WSm33"
      ]
    },
    {
      "cell_type": "code",
      "execution_count": null,
      "metadata": {
        "colab": {
          "background_save": true
        },
        "id": "PuW_1BJ-M2Nl",
        "outputId": "89e3021b-2612-418f-e06d-4c91f366c0fe"
      },
      "outputs": [
        {
          "name": "stdout",
          "output_type": "stream",
          "text": [
            "Looking in indexes: https://pypi.org/simple, https://us-python.pkg.dev/colab-wheels/public/simple/\n",
            "Collecting pyngrok\n",
            "  Downloading pyngrok-5.1.0.tar.gz (745 kB)\n",
            "\u001b[K     |████████████████████████████████| 745 kB 5.1 MB/s \n",
            "\u001b[?25hRequirement already satisfied: PyYAML in /usr/local/lib/python3.7/dist-packages (from pyngrok) (6.0)\n",
            "Building wheels for collected packages: pyngrok\n",
            "  Building wheel for pyngrok (setup.py) ... \u001b[?25l\u001b[?25hdone\n",
            "  Created wheel for pyngrok: filename=pyngrok-5.1.0-py3-none-any.whl size=19007 sha256=1930721b72092a012f5c6ecd228ddca799f1afaf7b689deb74793b8075384f81\n",
            "  Stored in directory: /root/.cache/pip/wheels/bf/e6/af/ccf6598ecefecd44104069371795cb9b3afbcd16987f6ccfb3\n",
            "Successfully built pyngrok\n",
            "Installing collected packages: pyngrok\n",
            "Successfully installed pyngrok-5.1.0\n"
          ]
        }
      ],
      "source": [
        "!pip install pyngrok"
      ]
    },
    {
      "cell_type": "code",
      "execution_count": null,
      "metadata": {
        "colab": {
          "background_save": true
        },
        "id": "IjUzagmVuODJ"
      },
      "outputs": [],
      "source": [
        "from pyngrok import ngrok "
      ]
    },
    {
      "cell_type": "code",
      "execution_count": null,
      "metadata": {
        "colab": {
          "background_save": true
        },
        "id": "AJyvOo4UNAaW",
        "outputId": "f1cf4b14-1474-4dfd-f11d-ff64832bf302"
      },
      "outputs": [
        {
          "name": "stderr",
          "output_type": "stream",
          "text": [
            "INFO:pyngrok.ngrok:Opening tunnel named: http-80-64a16626-32b8-43bb-bdb2-ce12d6cfe7b8\n",
            "2022-10-13 10:28:38.184 INFO    pyngrok.ngrok: Opening tunnel named: http-80-64a16626-32b8-43bb-bdb2-ce12d6cfe7b8\n"
          ]
        },
        {
          "name": "stdout",
          "output_type": "stream",
          "text": [
            ""
          ]
        },
        {
          "name": "stderr",
          "output_type": "stream",
          "text": [
            "INFO:pyngrok.process.ngrok:t=2022-10-13T10:28:41+0000 lvl=info msg=\"no configuration paths supplied\"\n",
            "2022-10-13 10:28:41.218 INFO    pyngrok.process.ngrok: t=2022-10-13T10:28:41+0000 lvl=info msg=\"no configuration paths supplied\"\n",
            "INFO:pyngrok.process.ngrok:t=2022-10-13T10:28:41+0000 lvl=info msg=\"using configuration at default config path\" path=/root/.ngrok2/ngrok.yml\n",
            "2022-10-13 10:28:41.230 INFO    pyngrok.process.ngrok: t=2022-10-13T10:28:41+0000 lvl=info msg=\"using configuration at default config path\" path=/root/.ngrok2/ngrok.yml\n",
            "INFO:pyngrok.process.ngrok:t=2022-10-13T10:28:41+0000 lvl=info msg=\"open config file\" path=/root/.ngrok2/ngrok.yml err=nil\n",
            "2022-10-13 10:28:41.248 INFO    pyngrok.process.ngrok: t=2022-10-13T10:28:41+0000 lvl=info msg=\"open config file\" path=/root/.ngrok2/ngrok.yml err=nil\n",
            "INFO:pyngrok.process.ngrok:t=2022-10-13T10:28:41+0000 lvl=info msg=\"starting web service\" obj=web addr=127.0.0.1:4040\n",
            "2022-10-13 10:28:41.258 INFO    pyngrok.process.ngrok: t=2022-10-13T10:28:41+0000 lvl=info msg=\"starting web service\" obj=web addr=127.0.0.1:4040\n",
            "INFO:pyngrok.process.ngrok:t=2022-10-13T10:28:41+0000 lvl=info msg=\"tunnel session started\" obj=tunnels.session\n",
            "2022-10-13 10:28:41.363 INFO    pyngrok.process.ngrok: t=2022-10-13T10:28:41+0000 lvl=info msg=\"tunnel session started\" obj=tunnels.session\n",
            "INFO:pyngrok.process.ngrok:t=2022-10-13T10:28:41+0000 lvl=info msg=\"client session established\" obj=csess id=f1a92f32a2f9\n",
            "2022-10-13 10:28:41.373 INFO    pyngrok.process.ngrok: t=2022-10-13T10:28:41+0000 lvl=info msg=\"client session established\" obj=csess id=f1a92f32a2f9\n",
            "INFO:pyngrok.process.ngrok:t=2022-10-13T10:28:41+0000 lvl=info msg=start pg=/api/tunnels id=1d28643516c368e8\n",
            "2022-10-13 10:28:41.395 INFO    pyngrok.process.ngrok: t=2022-10-13T10:28:41+0000 lvl=info msg=start pg=/api/tunnels id=1d28643516c368e8\n",
            "INFO:pyngrok.process.ngrok:t=2022-10-13T10:28:41+0000 lvl=info msg=end pg=/api/tunnels id=1d28643516c368e8 status=200 dur=355.504µs\n",
            "2022-10-13 10:28:41.407 INFO    pyngrok.process.ngrok: t=2022-10-13T10:28:41+0000 lvl=info msg=end pg=/api/tunnels id=1d28643516c368e8 status=200 dur=355.504µs\n",
            "INFO:pyngrok.process.ngrok:t=2022-10-13T10:28:41+0000 lvl=info msg=start pg=/api/tunnels id=19b9e8fe8332ed65\n",
            "2022-10-13 10:28:41.411 INFO    pyngrok.process.ngrok: t=2022-10-13T10:28:41+0000 lvl=info msg=start pg=/api/tunnels id=19b9e8fe8332ed65\n",
            "INFO:pyngrok.process.ngrok:t=2022-10-13T10:28:41+0000 lvl=info msg=end pg=/api/tunnels id=19b9e8fe8332ed65 status=200 dur=126.923µs\n",
            "2022-10-13 10:28:41.416 INFO    pyngrok.process.ngrok: t=2022-10-13T10:28:41+0000 lvl=info msg=end pg=/api/tunnels id=19b9e8fe8332ed65 status=200 dur=126.923µs\n",
            "INFO:pyngrok.process.ngrok:t=2022-10-13T10:28:41+0000 lvl=info msg=start pg=/api/tunnels id=8bbc92c574baa6ce\n",
            "2022-10-13 10:28:41.421 INFO    pyngrok.process.ngrok: t=2022-10-13T10:28:41+0000 lvl=info msg=start pg=/api/tunnels id=8bbc92c574baa6ce\n",
            "INFO:pyngrok.process.ngrok:t=2022-10-13T10:28:41+0000 lvl=info msg=\"started tunnel\" obj=tunnels name=\"http-80-64a16626-32b8-43bb-bdb2-ce12d6cfe7b8 (http)\" addr=http://localhost:80 url=http://4c83-35-223-104-98.ngrok.io\n"
          ]
        },
        {
          "data": {
            "text/plain": [
              "<NgrokTunnel: \"http://4c83-35-223-104-98.ngrok.io\" -> \"http://localhost:80\">"
            ]
          },
          "execution_count": 8,
          "metadata": {},
          "output_type": "execute_result"
        },
        {
          "name": "stderr",
          "output_type": "stream",
          "text": [
            "2022-10-13 10:28:41.480 INFO    pyngrok.process.ngrok: t=2022-10-13T10:28:41+0000 lvl=info msg=\"started tunnel\" obj=tunnels name=\"http-80-64a16626-32b8-43bb-bdb2-ce12d6cfe7b8 (http)\" addr=http://localhost:80 url=http://4c83-35-223-104-98.ngrok.io\n",
            "INFO:pyngrok.process.ngrok:t=2022-10-13T10:28:41+0000 lvl=info msg=\"started tunnel\" obj=tunnels name=http-80-64a16626-32b8-43bb-bdb2-ce12d6cfe7b8 addr=http://localhost:80 url=https://4c83-35-223-104-98.ngrok.io\n",
            "2022-10-13 10:28:41.491 INFO    pyngrok.process.ngrok: t=2022-10-13T10:28:41+0000 lvl=info msg=\"started tunnel\" obj=tunnels name=http-80-64a16626-32b8-43bb-bdb2-ce12d6cfe7b8 addr=http://localhost:80 url=https://4c83-35-223-104-98.ngrok.io\n"
          ]
        }
      ],
      "source": [
        "public_url = ngrok.connect(port='8501')\n",
        "public_url"
      ]
    },
    {
      "cell_type": "code",
      "execution_count": 18,
      "metadata": {
        "colab": {
          "base_uri": "https://localhost:8080/"
        },
        "id": "R44wCU4gbe3L",
        "outputId": "9d242e9c-2da2-4cd3-96c0-5d09489e4698"
      },
      "outputs": [
        {
          "output_type": "stream",
          "name": "stdout",
          "text": [
            "Overwriting streamlit_app.py\n"
          ]
        }
      ],
      "source": [
        "%%writefile streamlit_app.py \n",
        "\n",
        "import streamlit as st\n",
        "import pandas as pd\n",
        "import pickle\n",
        "\n",
        "#Loading up the Regression model we created\n",
        "\n",
        "model = pickle.load(open('pipeline.pkl', 'rb'))\n",
        "\n",
        "#Caching the model for faster loading\n",
        "#@st.cache\n",
        "\n",
        "\n",
        "# Define the prediction function\n",
        "def predict(C1,banner_pos,site_id,site_domain,site_category, app_id, app_domain, app_category,device_id, device_ip, device_model, device_conn_type, C14, C15, C16, C18, C19, C20, C21, hour, day):\n",
        "    def convert_obj_to_int(fm):\n",
        "      object_list_columns = fm.columns\n",
        "      object_list_dtypes = fm.dtypes\n",
        "      print(object_list_columns)\n",
        "      print(object_list_dtypes)\n",
        "      for index in range(0,len(object_list_columns)):\n",
        "        if object_list_dtypes[index] == object :\n",
        "            fm[object_list_columns[index]] = fm[object_list_columns[index]].apply(lambda x: hash(x))\n",
        "      return fm\n",
        "\n",
        "    df=pd.DataFrame([[C1,banner_pos,site_id,site_domain,site_category, app_id, app_domain, app_category,device_id, device_ip, device_model, device_conn_type, C14, C15, C16, C18, C19, C20, C21, hour, day]], columns=['C1','banner_pos','site_id','site_domain','site_category', 'app_id', 'app_domain', 'app_category','device_id', 'device_ip', 'device_model', 'device_conn_type', 'C14', 'C15', 'C16', 'C18', 'C19','C20', 'C21', 'hour', 'day'])\n",
        "    df_hashed = convert_obj_to_int(df)\n",
        "    print(df_hashed.loc[0,:])\n",
        "    print(df_hashed.dtypes)\n",
        "    X = df_hashed.loc[:,:].to_numpy()\n",
        "    print(X[0])\n",
        "    prediction = model.predict(X)\n",
        "    return prediction\n",
        "\n",
        "\n",
        "st.title('Check if your ad will be clicked or not')\n",
        "#st.image(\"\"\"\"\"\")\n",
        "st.header('Enter the characteristics of your ad:')\n",
        "day = st.selectbox('Day of week:', ['Monday', 'Tuesday', 'Wednesday', 'Thursday', 'Friday','Saturday','Sunday'])\n",
        "hour = st.number_input('Hour of day:', min_value=0, max_value=23, value=1)\n",
        "C1 = st.selectbox('C1:', [1005, 1002, 1010, 1007, 1001, 1008, 1012])\n",
        "banner_pos = st.selectbox('Banner_Position:', [0, 1, 5, 2, 4, 7, 3])\n",
        "\n",
        "site_id = st.text_input('Site Id')\n",
        "site_domain = st.text_input('Site Domain')\n",
        "site_category = st.text_input('Site Category')\n",
        "app_id = st.text_input('App Id')\n",
        "app_domain = st.text_input('App Domain')\n",
        "app_category = st.text_input('App Category')\n",
        "device_id = st.text_input('Device Id')\n",
        "device_ip = st.text_input('Device Ip')\n",
        "device_model = st.text_input('Device Model')\n",
        "\n",
        "\n",
        "device_conn_type = st.selectbox('Device Connection Type:', [0, 1, 5, 2, 4, 7, 3])\n",
        "C15 = st.selectbox('C15:', [320,  300,  728,  216,  480, 1024,  768,  120])\n",
        "C21 = st.number_input('C21',value=1)\n",
        "\n",
        "C14 = st.number_input('C14',value=1)\n",
        "C16 = st.number_input('C16',value=1)\n",
        "C18 = st.number_input('C18',value=1)\n",
        "C19 = st.number_input('C19',value=1)\n",
        "C20 = st.number_input('C20',value=1)\n",
        "\n",
        "if st.button('Check Click/Not click'):\n",
        "    result = predict(C1,banner_pos,site_id,site_domain,site_category, app_id, app_domain, app_category,device_id, device_ip, device_model, device_conn_type, C14, C15, C16, C18, C19, C20, C21, hour, day)\n",
        "    st.success('Prediction success', icon=\"✅\")\n",
        "    if result[0]==0:\n",
        "      st.write('your ad will not be clicked')\n",
        "    else:\n",
        "      st.write('your ad will be clicked')\n",
        "    "
      ]
    },
    {
      "cell_type": "code",
      "execution_count": 21,
      "metadata": {
        "colab": {
          "base_uri": "https://localhost:8080/"
        },
        "id": "3exM4O7Ebzyz",
        "outputId": "732bc49f-ecbe-487e-e89e-54bb9409c6f6"
      },
      "outputs": [
        {
          "output_type": "stream",
          "name": "stdout",
          "text": [
            "2022-10-13 12:47:59.792 INFO    numexpr.utils: NumExpr defaulting to 2 threads.\n",
            "[##................] | fetchMetadata: sill resolveWithNewModule ansi-styles@4.3\u001b[0m\u001b[K\n",
            "Collecting usage statistics. To deactivate, set browser.gatherUsageStats to False.\n",
            "\u001b[0m\n",
            "\u001b[0m\n",
            "\u001b[34m\u001b[1m  You can now view your Streamlit app in your browser.\u001b[0m\n",
            "\u001b[0m\n",
            "\u001b[34m  Network URL: \u001b[0m\u001b[1mhttp://172.28.0.2:8501\u001b[0m\n",
            "\u001b[34m  External URL: \u001b[0m\u001b[1mhttp://35.223.104.98:8501\u001b[0m\n",
            "\u001b[0m\n",
            "\u001b[K\u001b[?25hnpx: installed 22 in 3.572s\n",
            "your url is: https://heavy-cobras-dig-35-223-104-98.loca.lt\n",
            "\u001b[34m  Stopping...\u001b[0m\n",
            "^C\n"
          ]
        }
      ],
      "source": [
        "!streamlit run /content/streamlit_app.py & npx localtunnel --port 8501"
      ]
    },
    {
      "cell_type": "code",
      "execution_count": null,
      "metadata": {
        "id": "GfFNnSpSD1RE"
      },
      "outputs": [],
      "source": []
    }
  ],
  "metadata": {
    "colab": {
      "collapsed_sections": [],
      "provenance": []
    },
    "kernelspec": {
      "display_name": "Python 3",
      "name": "python3"
    },
    "language_info": {
      "name": "python"
    }
  },
  "nbformat": 4,
  "nbformat_minor": 0
}